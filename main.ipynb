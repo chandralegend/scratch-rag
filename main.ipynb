{
 "cells": [
  {
   "cell_type": "code",
   "execution_count": 1,
   "id": "de6dcf80",
   "metadata": {},
   "outputs": [],
   "source": [
    "from main import load_corpus, build_chunks"
   ]
  },
  {
   "cell_type": "code",
   "execution_count": 3,
   "id": "f7197241",
   "metadata": {},
   "outputs": [],
   "source": [
    "corpus = load_corpus(corpus_dir=\"docs\")\n",
    "chunked_corpus = build_chunks(corpus, chunk_size=500, overlap=50)"
   ]
  },
  {
   "cell_type": "code",
   "execution_count": 4,
   "id": "b6349593",
   "metadata": {},
   "outputs": [
    {
     "data": {
      "text/plain": [
       "[{'doc_id': 'how-y-comb-started-paul-graham.txt',\n",
       "  'chunk_id': 'how-y-comb-started-paul-graham.txt_chunk_0',\n",
       "  'text': \"How Y Combinator Started Y Combinator's 7th birthday was March 11. As usual we were so busy we didn't notice till a few days after. I don't think we've ever managed to remember our birthday on our birthday. On March 11 2005, Jessica and I were walking home from dinner in Harvard Square. Jessica was working at an investment bank at the time, but she didn't like it much, so she had interviewed for a job as director of marketing at a Boston VC fund. The VC fund was doing what now seems a comically familiar thing for a VC fund to do: taking a long time to make up their mind. Meanwhile I had been telling Jessica all the things they should change about the VC business — essentially the ideas now underlying Y Combinator: investors should be making more, smaller investments, they should be funding hackers instead of suits, they should be willing to fund younger founders, etc. At the time I had been thinking about doing some angel investing. I had just given a talk to the undergraduate computer club at Harvard about how to start a startup, and it hit me afterward that although I had always meant to do angel investing, 7 years had now passed since I got enough money to do it, and I still hadn't started. I had also been thinking about ways to work with Robert Morris and Trevor Blackwell again. A few hours before I had sent them an email trying to figure out what we could do together. Between Harvard Square and my house the idea gelled. We'd start our own investment firm and Jessica could work for that instead. As we turned onto Walker Street we decided to do it. I agreed to put $100k into the new fund and Jessica agreed to quit her job to work for it. Over the next couple days I recruited Robert and Trevor, who put in another $50k each. So YC started with $200k. Jessica was so happy to be able to quit her job and start her own company that I took her picture when we got home. The company wasn't called Y Combinator yet. At first we called it Cambridge Seed. But that name never saw the light of day, because by the time we announced it a few days later, we'd changed the name to Y Combinator. We realized early on that what we were doing could be national in scope and we didn't want a name that tied us to one place. Initially we only had part of the idea. We were going to do seed funding with standardized terms. Before YC, seed funding was very haphazard. You'd get that first $10k from your friend's rich uncle. The deal terms were often a disaster; often neither the investor nor the founders nor the lawyer knew what the documents should look like. Facebook's early history as a Florida LLC shows how random things could be in those days.\"},\n",
       " {'doc_id': 'how-y-comb-started-paul-graham.txt',\n",
       "  'chunk_id': 'how-y-comb-started-paul-graham.txt_chunk_1',\n",
       "  'text': \"You'd get that first $10k from your friend's rich uncle. The deal terms were often a disaster; often neither the investor nor the founders nor the lawyer knew what the documents should look like. Facebook's early history as a Florida LLC shows how random things could be in those days. We were going to be something there had not been before: a standard source of seed funding. We modelled YC on the seed funding we ourselves had taken when we started Viaweb. We started Viaweb with $10k we got from our friend Julian Weber, the husband of Idelle Weber, whose painting class I took as a grad student at Harvard. Julian knew about business, but you would not describe him as a suit. Among other things he'd been president of the National Lampoon. He was also a lawyer, and got all our paperwork set up properly. In return for $10k, getting us set up as a company, teaching us what business was about, and remaining calm in times of crisis, Julian got 10% of Viaweb. I remember thinking once what a good deal Julian got. And then a second later I realized that without Julian, Viaweb would never have made it. So even though it was a good deal for him, it was a good deal for us too. That's why I knew there was room for something like Y Combinator. Initially we didn't have what turned out to be the most important idea: funding startups synchronously, instead of asynchronously as it had always been done before. Or rather we had the idea, but we didn't realize its significance. We decided very early that the first thing we'd do would be to fund a bunch of startups over the coming summer. But we didn't realize initially that this would be the way we'd do all our investing. The reason we began by funding a bunch of startups at once was not that we thought it would be a better way to fund startups, but simply because we wanted to learn how to be angel investors, and a summer program for undergrads seemed the fastest way to do it. No one takes summer jobs that seriously. The opportunity cost for a bunch of undergrads to spend a summer working on startups was low enough that we wouldn't feel guilty encouraging them to do it. We knew students would already be making plans for the summer, so we did what we're always telling startups to do: we launched fast. Here are the initial announcement and description of what was at the time called the Summer Founders Program. We got lucky in that the length and structure of a summer program turns out to be perfect for what we do. The structure of the YC cycle is still almost identical to what it was that first summer. We also got lucky in who the first batch of founders were. We never expected to make any money from that first batch. We thought of\"}]"
      ]
     },
     "execution_count": 4,
     "metadata": {},
     "output_type": "execute_result"
    }
   ],
   "source": [
    "chunked_corpus[:2]  # Display the first two chunks"
   ]
  },
  {
   "cell_type": "code",
   "execution_count": 3,
   "id": "3249754e",
   "metadata": {},
   "outputs": [],
   "source": [
    "import os, glob, json\n",
    "import numpy as np\n",
    "import faiss\n",
    "from sentence_transformers import SentenceTransformer\n",
    "from main import load_corpus, build_chunks"
   ]
  },
  {
   "cell_type": "code",
   "execution_count": 4,
   "id": "dda9be01",
   "metadata": {},
   "outputs": [
    {
     "name": "stdout",
     "output_type": "stream",
     "text": [
      "Total chunks created: 4\n"
     ]
    },
    {
     "name": "stderr",
     "output_type": "stream",
     "text": [
      "Batches: 100%|██████████| 1/1 [00:02<00:00,  2.04s/it]\n"
     ]
    }
   ],
   "source": [
    "corpus = load_corpus(corpus_dir=\"docs\")\n",
    "chunked_corpus = build_chunks(corpus, chunk_size=500, overlap=50)\n",
    "print(f\"Total chunks created: {len(chunked_corpus)}\")\n",
    "\n",
    "model = SentenceTransformer('all-MiniLM-L6-v2')\n",
    "embeddings = model.encode([chunk['text'] for chunk in chunked_corpus], show_progress_bar=True, convert_to_numpy=True)"
   ]
  },
  {
   "cell_type": "code",
   "execution_count": 5,
   "id": "bd3f36a3",
   "metadata": {},
   "outputs": [
    {
     "data": {
      "text/plain": [
       "array([[ 0.00262533, -0.06060995,  0.04796309, ..., -0.10234585,\n",
       "        -0.06416606, -0.02177049],\n",
       "       [-0.06242759,  0.0737354 , -0.01731625, ..., -0.12356475,\n",
       "        -0.07399751, -0.01288157],\n",
       "       [-0.02590338, -0.03875904,  0.0522448 , ..., -0.0087055 ,\n",
       "        -0.07217222, -0.03136091],\n",
       "       [ 0.08763316, -0.04844471,  0.09743939, ...,  0.03077282,\n",
       "        -0.02612675, -0.02646558]], shape=(4, 384), dtype=float32)"
      ]
     },
     "execution_count": 5,
     "metadata": {},
     "output_type": "execute_result"
    }
   ],
   "source": [
    "embeddings"
   ]
  },
  {
   "cell_type": "code",
   "execution_count": 6,
   "id": "3bc5806f",
   "metadata": {},
   "outputs": [
    {
     "name": "stdout",
     "output_type": "stream",
     "text": [
      "Dimension of embeddings: 384\n"
     ]
    }
   ],
   "source": [
    "def normalize(vec):\n",
    "    norm = np.linalg.norm(vec, axis=1, keepdims=True)\n",
    "    return vec / norm\n",
    "\n",
    "vec = normalize(embeddings).astype('float32')\n",
    "dimension = vec.shape[1]\n",
    "print(f\"Dimension of embeddings: {dimension}\")"
   ]
  },
  {
   "cell_type": "code",
   "execution_count": 7,
   "id": "a5b5524f",
   "metadata": {},
   "outputs": [
    {
     "name": "stdout",
     "output_type": "stream",
     "text": [
      "Total vectors in index: 4\n"
     ]
    }
   ],
   "source": [
    "index = faiss.IndexFlatIP(dimension)\n",
    "index.add(vec)\n",
    "print(f\"Total vectors in index: {index.ntotal}\")"
   ]
  },
  {
   "cell_type": "code",
   "execution_count": 8,
   "id": "cfd61a39",
   "metadata": {},
   "outputs": [],
   "source": [
    "query = \"When is the YCOmbinators birthday?\"\n",
    "query_embedding = model.encode([query], convert_to_numpy=True)"
   ]
  },
  {
   "cell_type": "code",
   "execution_count": 12,
   "id": "b693e81b",
   "metadata": {},
   "outputs": [],
   "source": [
    "query_vec = normalize(query_embedding).astype('float32')"
   ]
  },
  {
   "cell_type": "code",
   "execution_count": 14,
   "id": "0807091a",
   "metadata": {},
   "outputs": [
    {
     "data": {
      "text/plain": [
       "(array([[0.3564238 , 0.29097176]], dtype=float32), array([[0, 2]]))"
      ]
     },
     "execution_count": 14,
     "metadata": {},
     "output_type": "execute_result"
    }
   ],
   "source": [
    "# Retrieve from the index\n",
    "index.search(query_vec, 2)"
   ]
  },
  {
   "cell_type": "markdown",
   "id": "48fdeaf7",
   "metadata": {},
   "source": [
    "## Home Lab\n",
    "1. Create a Vector Datastore using FAISS for University of Moratuwa Related Documents\n",
    "2. FastAPI Server to serve Retrieval API\n",
    "3.  When you input a query, retrieve the top 2 relevant chunks from the FAISS index based on cosine similarity.\n",
    "4.  Also you should be able to filter the documents first based on metadata (e.g., document type, date) before performing the similarity search.\n",
    "\n",
    "1.. Electrical Department Documents, 2.. Computer Science Department Documents, 3.. General University Documents\n",
    "metadata = {\n",
    "    \"department\": \"Electrical\",\n",
    "    \"year\": \"2023\"\n",
    "}\n",
    "\n",
    "/search?query=admissions&department=Electrical&year=2023 --> Only search within Electrical Department Documents from 2023\n",
    "\n",
    "https://www.youtube.com/watch?v=wh0XkBeQNSM"
   ]
  },
  {
   "cell_type": "code",
   "execution_count": 15,
   "id": "d0556602",
   "metadata": {},
   "outputs": [],
   "source": [
    "## 0719102569\n",
    "## irugalbandarachandra@gmail.com"
   ]
  },
  {
   "cell_type": "code",
   "execution_count": 16,
   "id": "7e52b592",
   "metadata": {},
   "outputs": [],
   "source": [
    "# 1. Next up - Augmentation and Generation\n",
    "# 2. Capstone Teams Intro + Few Project Proposal from my end - Price Money"
   ]
  },
  {
   "cell_type": "code",
   "execution_count": null,
   "id": "82195a12",
   "metadata": {},
   "outputs": [],
   "source": []
  }
 ],
 "metadata": {
  "kernelspec": {
   "display_name": "scratch-rag (3.11.13)",
   "language": "python",
   "name": "python3"
  },
  "language_info": {
   "codemirror_mode": {
    "name": "ipython",
    "version": 3
   },
   "file_extension": ".py",
   "mimetype": "text/x-python",
   "name": "python",
   "nbconvert_exporter": "python",
   "pygments_lexer": "ipython3",
   "version": "3.11.13"
  }
 },
 "nbformat": 4,
 "nbformat_minor": 5
}
